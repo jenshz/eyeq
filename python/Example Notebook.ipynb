{
 "cells": [
  {
   "cell_type": "code",
   "execution_count": null,
   "metadata": {},
   "outputs": [],
   "source": [
    "%load_ext autoreload\n",
    "%autoreload 2"
   ]
  },
  {
   "cell_type": "code",
   "execution_count": null,
   "metadata": {},
   "outputs": [],
   "source": [
    "import matplotlib.pyplot as plt\n",
    "import numpy as np"
   ]
  },
  {
   "cell_type": "code",
   "execution_count": null,
   "metadata": {
    "scrolled": true
   },
   "outputs": [],
   "source": [
    "from eyeq import Client, Block\n",
    "from eyeq import block\n",
    "client = Client(\"tcp://localhost:13450\")"
   ]
  },
  {
   "cell_type": "code",
   "execution_count": null,
   "metadata": {},
   "outputs": [],
   "source": [
    "# Clean-up\n",
    "def tryit(l):\n",
    "    try:\n",
    "        l()\n",
    "    except:\n",
    "        pass\n",
    "\n",
    "tryit(lambda: client.close_stream('raw_stream'))\n",
    "tryit(lambda: client.close_stream('filtered_stream'))\n",
    "tryit(lambda: client.close_stream('translate_filter_stream'))\n",
    "tryit(lambda: client.delete_store(\"jupyter\"))"
   ]
  },
  {
   "cell_type": "markdown",
   "metadata": {},
   "source": [
    "## Create signal of interest"
   ]
  },
  {
   "cell_type": "code",
   "execution_count": null,
   "metadata": {},
   "outputs": [],
   "source": [
    "def sine(count=block.BLOCK_F32_SAMPLES//2, freq=10.0, offset=0, Fs=200000.0, amplitude=1):\n",
    "    return amplitude * np.exp(1j*2*np.pi*(np.arange(count) + offset) * freq / Fs, dtype=np.complex64)\n",
    "def noise(count=block.BLOCK_F32_SAMPLES, scale=0.001):\n",
    "    return (np.random.default_rng().standard_normal(count, dtype=np.float32) * scale / np.sqrt(2))\n",
    "def snr2amplitude(snr_db, noise_rms=0.001, signal_rms=1):\n",
    "    return noise_rms * np.power(10, snr_db / 20) / signal_rms\n",
    "\n",
    "client.create_store(\"jupyter\", 1000)\n",
    "\n",
    "offset = 0\n",
    "cnt = block.BLOCK_I16_SAMPLES // 2\n",
    "print(cnt)\n",
    "for i in range(100):\n",
    "    samples = (noise(count=cnt*2) + sine(count=cnt, freq=-39000, offset=offset, amplitude=np.cos(i * np.pi / 100)).view(np.float32)) * 4000\n",
    "    bl = block.Block.create(block.BLOCK_TYPE_I16_SAMPLES, data=samples.view(np.float32))\n",
    "    client.write_block(\"jupyter\", bl)\n",
    "    offset += block.BLOCK_I16_SAMPLES // 2"
   ]
  },
  {
   "cell_type": "code",
   "execution_count": null,
   "metadata": {},
   "outputs": [],
   "source": [
    "data = client.read_complex_samples(\"jupyter\", 0, 400000)\n",
    "plt.plot(np.real(data));\n",
    "plt.plot(np.abs(data));"
   ]
  },
  {
   "cell_type": "code",
   "execution_count": null,
   "metadata": {},
   "outputs": [],
   "source": [
    "plt.plot(np.real(data)[:50]);"
   ]
  },
  {
   "cell_type": "markdown",
   "metadata": {},
   "source": [
    "## Stream examples"
   ]
  },
  {
   "cell_type": "code",
   "execution_count": null,
   "metadata": {},
   "outputs": [],
   "source": [
    "from scipy.signal import firwin, firwin2\n",
    "\n",
    "# 127-tap low-pass fir filter with pass-band from -10000 Hz to +10000 Hz.\n",
    "taps = firwin(127, 0.05)"
   ]
  },
  {
   "cell_type": "code",
   "execution_count": null,
   "metadata": {},
   "outputs": [],
   "source": [
    "plt.plot(taps)"
   ]
  },
  {
   "cell_type": "code",
   "execution_count": null,
   "metadata": {},
   "outputs": [],
   "source": [
    "# Clean-up\n",
    "try:\n",
    "    client.close_stream('raw_stream')\n",
    "    client.close_stream('filtered_stream')\n",
    "    client.close_stream('translate_filter_stream')\n",
    "except:\n",
    "    pass"
   ]
  },
  {
   "cell_type": "markdown",
   "metadata": {},
   "source": [
    "Create 3 different streams - one just sending through the raw samples, one filtered with a low-pass filter and one frequency shifted and then filtered."
   ]
  },
  {
   "cell_type": "code",
   "execution_count": null,
   "metadata": {},
   "outputs": [],
   "source": [
    "from eyeq.client import samples\n",
    "\n",
    "# Raw sample data\n",
    "raw_stream = client.create_stream(name=\"raw_stream\", layers=[\n",
    "    samples.StoreReaderStream(name='jupyter', start_block=0, end_block=100)    \n",
    "])\n",
    "\n",
    "# Filtered data\n",
    "filtered_stream = client.create_stream(name=\"filtered_stream\", layers=[\n",
    "    samples.StoreReaderStream(name='jupyter', start_block=0, end_block=100),\n",
    "    samples.FirFilterStream(filter_taps=taps.astype(np.complex64).view(np.float32).tolist(), is_complex=True)\n",
    "])\n",
    "\n",
    "# Frequency-shifted and filtered data\n",
    "translate_filter_stream = client.create_stream(name=\"translate_filter_stream\", layers=[\n",
    "    samples.StoreReaderStream(name='jupyter', start_block=0, end_block=100),\n",
    "    samples.FrequencyTranslateStream(relative_frequency=39500/200000.0),\n",
    "    samples.FirFilterStream(filter_taps=taps.astype(np.complex64).view(np.float32).tolist(), is_complex=True)\n",
    "])"
   ]
  },
  {
   "cell_type": "code",
   "execution_count": null,
   "metadata": {},
   "outputs": [],
   "source": [
    "# Seek to an area of interest\n",
    "\n",
    "client.seek_stream('raw_stream', 48)\n",
    "raw_data = client.read_stream('raw_stream', 40000).view(np.complex64)\n",
    "\n",
    "client.seek_stream('filtered_stream', 48)\n",
    "fil_data = client.read_stream('filtered_stream', 40000).view(np.complex64)\n",
    "\n",
    "client.seek_stream('translate_filter_stream', 48)\n",
    "trans_data = client.read_stream('translate_filter_stream', 40000).view(np.complex64)"
   ]
  },
  {
   "cell_type": "markdown",
   "metadata": {},
   "source": [
    "The low-pass filtering only allows a small pass-band around 0 Hz through."
   ]
  },
  {
   "cell_type": "code",
   "execution_count": null,
   "metadata": {},
   "outputs": [],
   "source": [
    "plt.psd(raw_data.view(np.complex64), NFFT=4096);\n",
    "plt.psd(fil_data.view(np.complex64), NFFT=4096);\n",
    "#plt.psd(trans_data.view(np.complex64), NFFT=4096);"
   ]
  },
  {
   "cell_type": "markdown",
   "metadata": {},
   "source": [
    "Frequency translating first and then filtering shifts the signal of interest into the pass band.\n",
    "As a result, the noise is significantly reduced outside the pass-band, but the signal remains unchanged."
   ]
  },
  {
   "cell_type": "code",
   "execution_count": null,
   "metadata": {},
   "outputs": [],
   "source": [
    "plt.psd(raw_data.view(np.complex64));\n",
    "plt.psd(20 * taps.astype(np.complex64) * np.exp(1j * np.pi * 2 * np.arange(len(taps)) * (-39000 / 200000.0)));"
   ]
  },
  {
   "cell_type": "code",
   "execution_count": null,
   "metadata": {},
   "outputs": [],
   "source": [
    "plt.psd(raw_data.view(np.complex64));\n",
    "plt.psd(trans_data.view(np.complex64));"
   ]
  },
  {
   "cell_type": "code",
   "execution_count": null,
   "metadata": {},
   "outputs": [],
   "source": [
    "plt.plot(np.abs(raw_data));\n",
    "plt.plot(np.abs(fil_data));\n",
    "plt.plot(np.abs(trans_data));"
   ]
  },
  {
   "cell_type": "code",
   "execution_count": null,
   "metadata": {},
   "outputs": [],
   "source": [
    "plt.plot(np.real(raw_data));\n",
    "plt.plot(np.real(trans_data));\n",
    "plt.plot(np.real(fil_data));"
   ]
  }
 ],
 "metadata": {
  "kernelspec": {
   "display_name": "Python 3",
   "language": "python",
   "name": "python3"
  },
  "language_info": {
   "codemirror_mode": {
    "name": "ipython",
    "version": 3
   },
   "file_extension": ".py",
   "mimetype": "text/x-python",
   "name": "python",
   "nbconvert_exporter": "python",
   "pygments_lexer": "ipython3",
   "version": "3.8.10"
  }
 },
 "nbformat": 4,
 "nbformat_minor": 4
}
