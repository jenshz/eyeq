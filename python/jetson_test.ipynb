{
 "cells": [
  {
   "cell_type": "markdown",
   "metadata": {},
   "source": [
    "## Before running this, make sure mk2-sat-hat-3 exists in your host file, and the port forward has been created (ssh -L 13450:192.168.6.2:13450 -L 2222:192.168.42.25:22 pi@mk2-sat-hat-3)."
   ]
  },
  {
   "cell_type": "code",
   "execution_count": null,
   "metadata": {},
   "outputs": [],
   "source": [
    "from pysi.leops.session import new_session"
   ]
  },
  {
   "cell_type": "code",
   "execution_count": null,
   "metadata": {},
   "outputs": [],
   "source": [
    "import matplotlib.pyplot as plt\n",
    "import numpy as np\n",
    "import os"
   ]
  },
  {
   "cell_type": "code",
   "execution_count": null,
   "metadata": {
    "scrolled": true
   },
   "outputs": [],
   "source": [
    "from eyeq import Client, Block, block\n",
    "from eyeq.client import samples\n",
    "client = Client(\"tcp://localhost:13450\")"
   ]
  },
  {
   "cell_type": "code",
   "execution_count": null,
   "metadata": {},
   "outputs": [],
   "source": [
    "os.environ['JUPYTERHUB_USER'] = os.environ['USER']\n",
    "session = new_session('mk2-sat-hat-3:6020', 0)"
   ]
  },
  {
   "cell_type": "code",
   "execution_count": null,
   "metadata": {},
   "outputs": [],
   "source": [
    "# EyeQ setup.\n",
    "raw_stream = client.create_stream(name=\"raw_stream\", layers=[\n",
    "    samples.StoreReaderStream(name='SAMPLES', start_block=0, end_block=15000)\n",
    "])"
   ]
  },
  {
   "cell_type": "code",
   "execution_count": null,
   "metadata": {},
   "outputs": [],
   "source": [
    "%si node 22\n",
    "%si set desired_state 3 safemode_override 1 sample_to 1\n",
    "%si sleep 1\n",
    "%si set processor_enabled 1 gndwdt 86400"
   ]
  },
  {
   "cell_type": "code",
   "execution_count": null,
   "metadata": {},
   "outputs": [],
   "source": [
    "%si ping 24\n",
    "%si ping 25"
   ]
  },
  {
   "cell_type": "code",
   "execution_count": null,
   "metadata": {},
   "outputs": [],
   "source": [
    "%si node 22\n",
    "%si get radio*"
   ]
  },
  {
   "cell_type": "code",
   "execution_count": null,
   "metadata": {},
   "outputs": [],
   "source": [
    "def get_sample_offset(store=\"SAMPLES\"):\n",
    "    return [x for x in client.list_stores().stores if x.name == \"SAMPLES\"][0].block_offset"
   ]
  },
  {
   "cell_type": "code",
   "execution_count": null,
   "metadata": {},
   "outputs": [],
   "source": [
    "get_sample_offset()"
   ]
  },
  {
   "cell_type": "code",
   "execution_count": null,
   "metadata": {},
   "outputs": [],
   "source": [
    "%si node 22\n",
    "%si get sample_for"
   ]
  },
  {
   "cell_type": "code",
   "execution_count": null,
   "metadata": {},
   "outputs": [],
   "source": [
    "start_offset = get_sample_offset()\n",
    "# Test sampling\n",
    "%si node 22\n",
    "%si set sample_for 20 radio_rx_gain 30000 radio_rx_freq 400300000 radio_rx_path 7\n",
    "%si sleep 4\n",
    "%si node 25\n",
    "%si set sample_for 10\n",
    "print(\"Started sampling at offset: \", start_offset)"
   ]
  },
  {
   "cell_type": "code",
   "execution_count": null,
   "metadata": {},
   "outputs": [],
   "source": [
    "client.seek_stream('raw_stream', start_offset)\n",
    "raw_data = client.read_stream('raw_stream', 2000000).view(np.complex64)\n",
    "plt.psd(raw_data.view(np.complex64), NFFT=4096, Fs=200000);"
   ]
  },
  {
   "cell_type": "code",
   "execution_count": null,
   "metadata": {},
   "outputs": [],
   "source": [
    "plt.plot(np.abs(raw_data.view(np.complex64)));\n",
    "#plt.plot(np.real(raw_data.view(np.complex64))[:1000]);\n",
    "#plt.plot(np.imag(raw_data.view(np.complex64))[:1000]);"
   ]
  },
  {
   "cell_type": "code",
   "execution_count": null,
   "metadata": {},
   "outputs": [],
   "source": []
  }
 ],
 "metadata": {
  "kernelspec": {
   "display_name": "Python 3",
   "language": "python",
   "name": "python3"
  },
  "language_info": {
   "codemirror_mode": {
    "name": "ipython",
    "version": 3
   },
   "file_extension": ".py",
   "mimetype": "text/x-python",
   "name": "python",
   "nbconvert_exporter": "python",
   "pygments_lexer": "ipython3",
   "version": "3.8.10"
  }
 },
 "nbformat": 4,
 "nbformat_minor": 4
}
