{
 "cells": [
  {
   "cell_type": "code",
   "execution_count": null,
   "id": "4a45b5b5-6783-404b-943a-af9a22be9077",
   "metadata": {},
   "outputs": [],
   "source": [
    "import numpy as np\n",
    "import matplotlib.pyplot as plt"
   ]
  },
  {
   "cell_type": "code",
   "execution_count": null,
   "id": "76e410c7-b9bd-4467-a89a-dc12302612e7",
   "metadata": {},
   "outputs": [],
   "source": [
    "from eyeq import block"
   ]
  },
  {
   "cell_type": "code",
   "execution_count": null,
   "id": "86cc2e9d-4f41-4a08-b20b-a24f9d28577a",
   "metadata": {},
   "outputs": [],
   "source": [
    "# Generate some samples...\n",
    "phase = np.arange(50000)\n",
    "samples = np.round((((np.random.randn(50000)+ 1j * np.random.randn(50000)) + np.exp(1j * (0.1 * np.arange(50000) * np.pi * 2 + 0.5 * ((np.arange(50000)/1000)**2) * np.pi * 2))))).astype(np.complex64)"
   ]
  },
  {
   "cell_type": "code",
   "execution_count": null,
   "id": "f82855b8-3a29-4487-9a31-82bc274c3926",
   "metadata": {},
   "outputs": [],
   "source": [
    "plt.psd(samples);"
   ]
  },
  {
   "cell_type": "code",
   "execution_count": null,
   "id": "890fd210-b7a8-46b3-b5bc-40c204d8c93a",
   "metadata": {
    "tags": []
   },
   "outputs": [],
   "source": [
    "# Construct the blocks that we write to our fake block store.\n",
    "nsamp = block.BLOCK_F32_SAMPLES\n",
    "blocks = []\n",
    "for i in range((len(samples)+nsamp-1) // nsamp):\n",
    "    data = samples[nsamp*i:nsamp*(i+1)]\n",
    "    bl = block.Block.create(block.BLOCK_TYPE_I16_SAMPLES)\n",
    "    bl.header.block_id = i\n",
    "    bl.init_block_data(data.view(np.float32))\n",
    "    blocks.append(bl)"
   ]
  },
  {
   "cell_type": "code",
   "execution_count": null,
   "id": "2ceb9603-8e62-40a4-8d82-d60685054dd9",
   "metadata": {},
   "outputs": [],
   "source": [
    "class Store:\n",
    "    def __init__(self, blocks):\n",
    "        self.blocks = blocks\n",
    "\n",
    "    def read_block(self, id):\n",
    "        return self.blocks[id]\n"
   ]
  },
  {
   "cell_type": "code",
   "execution_count": null,
   "id": "30e3b033-a84c-41a3-b296-2db25e38bb04",
   "metadata": {},
   "outputs": [],
   "source": [
    "store = Store(blocks)"
   ]
  },
  {
   "cell_type": "code",
   "execution_count": null,
   "id": "d8c83bd9-0324-48c6-94a3-0c2e57d0532b",
   "metadata": {},
   "outputs": [],
   "source": [
    "plt.psd(store.read_block(2).samples().view(np.complex64));"
   ]
  },
  {
   "cell_type": "code",
   "execution_count": null,
   "id": "93863520-58c6-42d6-b42d-c667332894c6",
   "metadata": {},
   "outputs": [],
   "source": [
    "STREAM_BUF = 16384"
   ]
  },
  {
   "cell_type": "code",
   "execution_count": null,
   "id": "b7702fb8-e32a-4d52-b00e-7b798d88569c",
   "metadata": {},
   "outputs": [],
   "source": [
    "class StoreReader:\n",
    "    def __init__(self, store):\n",
    "        self.block_id = 0\n",
    "        self.block_offset = 0\n",
    "        self.store = store\n",
    "\n",
    "    def seek(self, block_id):\n",
    "        self.block_id = block_id\n",
    "\n",
    "    def read(self, n):\n",
    "        self\n"
   ]
  },
  {
   "cell_type": "code",
   "execution_count": null,
   "id": "823867d5-3e03-466f-a4d0-3726cce1edb2",
   "metadata": {
    "tags": []
   },
   "outputs": [],
   "source": [
    "class ArrayStream:\n",
    "    def __init__(self, array, start=0):\n",
    "        self.array = array.astype(np.float32)\n",
    "        self.position = 0\n",
    "        self.start = start\n",
    "    \n",
    "    def read(self, n):\n",
    "        output = np.zeros(n, dtype=np.float32)\n",
    "        data_slice = self.array[self.position+self.start:self.position+self.start+n]\n",
    "        output[:len(data_slice)] = data_slice\n",
    "        self.position += n\n",
    "        return output\n",
    "\n",
    "    def seek(self, n):\n",
    "        self.position = n\n",
    "\n",
    "    def tell(self):\n",
    "        return self.position\n",
    "        "
   ]
  },
  {
   "cell_type": "code",
   "execution_count": null,
   "id": "cf31f774-651d-4d2e-ba48-f98ebb428caa",
   "metadata": {},
   "outputs": [],
   "source": [
    "class FrequencyShiftStream:\n",
    "    def __init__(self, backend, relative_freq, phase):\n",
    "        self.offset = 0\n",
    "        self.relative_freq = relative_freq\n",
    "        self.phase = phase\n",
    "        self.backend = backend\n",
    "    \n",
    "    def read(self, n):\n",
    "        output = np.zeros(n, dtype=np.float32)\n",
    "        output_count = 0\n",
    "        while n > 0:\n",
    "            data = self.backend.read(n)\n",
    "            output[output_count:output_count+len(data)] = (data.view(np.complex64) * np.exp(1j * 2 * np.pi * np.arange(self.offset, self.offset+len(data)//2) * self.relative_freq + self.phase)).astype(np.complex64).view(np.float32)\n",
    "            output_count += len(data)\n",
    "            n -= len(data)\n",
    "            self.offset += len(data)//2\n",
    "        return output\n",
    "\n",
    "    def seek(self, n):\n",
    "        self.backend.seek(n)\n",
    "        self.offset = self.backend.tell()\n"
   ]
  },
  {
   "cell_type": "code",
   "execution_count": null,
   "id": "1a9fae9b-827e-4102-9f01-02b00ec9df7d",
   "metadata": {},
   "outputs": [],
   "source": [
    "class ConvolveCRStream:\n",
    "    def __init__(self, backend, taps):\n",
    "        self.backend = backend\n",
    "        self.taps = np.flipud(taps)\n",
    "        self.overlap = (len(self.taps)-1)*2\n",
    "        self.buffer = np.zeros(STREAM_BUF, dtype=np.float32)\n",
    "        self.reset()\n",
    "\n",
    "    def reset(self):\n",
    "        self.offset = 0\n",
    "        self.buffer[:] = 0\n",
    "        self.data_offset = self.overlap\n",
    "        self.shift_and_read()\n",
    "        \n",
    "    def fill(self):\n",
    "        while self.data_offset < len(self.buffer):\n",
    "            to_read = len(self.buffer) - self.data_offset\n",
    "            data = self.backend.read(to_read)\n",
    "            self.buffer[self.data_offset:self.data_offset+len(data)] = data\n",
    "            self.data_offset += len(data)\n",
    "    \n",
    "    def shift_and_read(self):\n",
    "        \"\"\"Shift tail end to start of buffer and fill with new data\"\"\"\n",
    "        self.buffer[:self.overlap] = self.buffer[-self.overlap:]\n",
    "        self.data_offset = self.overlap\n",
    "        self.fill()\n",
    "        self.offset = 0\n",
    "\n",
    "    def fir_filter(self):\n",
    "        \"\"\"Produce one output sample by filtering the current position in the input stream.\"\"\"\n",
    "        if self.offset + len(self.taps) * 2 > len(self.buffer):\n",
    "            self.shift_and_read()\n",
    "        input_data = self.buffer[self.offset:self.offset+len(self.taps)*2].view(np.complex64)\n",
    "        self.offset += 2\n",
    "        return np.sum(np.multiply(input_data, self.taps))\n",
    "\n",
    "    def read(self, n):\n",
    "        \"\"\"Read filtered data\"\"\"\n",
    "        output = np.zeros(n // 2, dtype=np.complex64)\n",
    "        for i in range(len(output)):\n",
    "            output[i] = self.fir_filter()\n",
    "        return output.view(np.float32)\n",
    "\n",
    "    def seek(self, n):\n",
    "        self.backend.seek(n)\n",
    "        self.reset()\n",
    "            "
   ]
  },
  {
   "cell_type": "code",
   "execution_count": null,
   "id": "78adb1aa-44a4-4ba6-8e57-73a2746a64f8",
   "metadata": {},
   "outputs": [],
   "source": [
    "from scipy.signal import firwin\n",
    "taps = firwin(41, 0.01)"
   ]
  },
  {
   "cell_type": "code",
   "execution_count": null,
   "id": "2c854b92-db8c-49a3-9324-c943d3391aa5",
   "metadata": {},
   "outputs": [],
   "source": [
    "convolved = np.convolve(samples, taps, 'full')\n",
    "convolved_and_shifted = np.convolve(samples * np.exp(1j * 2 * np.pi * np.arange(len(samples)) * (-0.09)), taps, 'full')\n",
    "plt.plot(np.real(convolved_and_shifted)[8000:9000]);\n",
    "plt.plot(np.imag(convolved_and_shifted)[8000:9000]);"
   ]
  },
  {
   "cell_type": "code",
   "execution_count": null,
   "id": "c57ab00a-e458-44f7-8f77-e4b9fdfca195",
   "metadata": {},
   "outputs": [],
   "source": [
    "stream = ArrayStream(samples.astype(np.complex64).view(np.float32))\n",
    "fs_stream = FrequencyShiftStream(stream, -0.09, 0)\n",
    "cr_stream = ConvolveCRStream(fs_stream, taps)"
   ]
  },
  {
   "cell_type": "code",
   "execution_count": null,
   "id": "b55afe68-4708-4f30-ba89-99a9667933a9",
   "metadata": {},
   "outputs": [],
   "source": [
    "cr_stream.seek(16000)\n",
    "data = cr_stream.read(2000).view(np.complex64)\n",
    "plt.plot(np.real(data));\n",
    "plt.plot(np.imag(data));"
   ]
  },
  {
   "cell_type": "code",
   "execution_count": null,
   "id": "825924b0-5b5e-4e9c-8111-ae02ddd1fb22",
   "metadata": {},
   "outputs": [],
   "source": [
    "#plt.psd(data * 0);\n",
    "#plt.psd(convolved * 0);\n",
    "plt.psd(convolved_and_shifted[8000:9000]);\n",
    "plt.psd(data);"
   ]
  },
  {
   "cell_type": "code",
   "execution_count": null,
   "id": "a0443d4d-1555-4e39-a6e4-c270f2f69fa2",
   "metadata": {},
   "outputs": [],
   "source": [
    "input_data = np.random.randn(2000);"
   ]
  },
  {
   "cell_type": "code",
   "execution_count": null,
   "id": "0aa150e3-5b19-49d7-bce8-2ba00b445df5",
   "metadata": {},
   "outputs": [],
   "source": [
    "plt.plot(taps);"
   ]
  },
  {
   "cell_type": "code",
   "execution_count": null,
   "id": "6cab12b6-5f8a-4c9a-913d-5b7ef11db27a",
   "metadata": {},
   "outputs": [],
   "source": [
    "plt.plot(input_data);"
   ]
  },
  {
   "cell_type": "code",
   "execution_count": null,
   "id": "66016a62-822e-40df-aff1-a8da0e3be8ce",
   "metadata": {},
   "outputs": [],
   "source": [
    "input_data = input_data.astype(np.float32)\n",
    "input_data.tofile('data.bin')"
   ]
  },
  {
   "cell_type": "code",
   "execution_count": null,
   "id": "c23f1547-08fc-4288-9beb-6fa07189194a",
   "metadata": {},
   "outputs": [],
   "source": [
    "taps = taps.astype(np.float32)"
   ]
  },
  {
   "cell_type": "code",
   "execution_count": null,
   "id": "34eff2bb-fc28-42f1-b436-36dfa6a8e71b",
   "metadata": {},
   "outputs": [],
   "source": [
    "taps.astype(np.complex64).tofile('taps.bin')"
   ]
  },
  {
   "cell_type": "code",
   "execution_count": null,
   "id": "a5a16f5d-ab3a-4c36-8e2a-aeddc996e928",
   "metadata": {},
   "outputs": [],
   "source": [
    "np.convolve(input_data.view(np.complex64), taps, 'full').astype(np.complex64).view(np.float32).tofile('complex_convolved.bin')"
   ]
  },
  {
   "cell_type": "code",
   "execution_count": null,
   "id": "a5a1d31a-03b7-4456-827b-51fc32922351",
   "metadata": {},
   "outputs": [],
   "source": [
    "plt.plot(np.convolve(input_data.view(np.complex64), taps, 'full').astype(np.complex64).view(np.float32))"
   ]
  },
  {
   "cell_type": "code",
   "execution_count": null,
   "id": "780f57ae-909c-467c-bcc0-526d0b239d9c",
   "metadata": {},
   "outputs": [],
   "source": [
    "from scipy.signal import firwin, firwin2"
   ]
  },
  {
   "cell_type": "code",
   "execution_count": null,
   "id": "f74a6c7f-a5d9-4310-aaab-015512f5ccf0",
   "metadata": {},
   "outputs": [],
   "source": [
    "import numpy as np"
   ]
  },
  {
   "cell_type": "code",
   "execution_count": null,
   "id": "34cc6113-49ae-42a3-9caa-92a277da3a8e",
   "metadata": {},
   "outputs": [],
   "source": [
    "lowpass100 = firwin(121, 150000 / 200000.0)\n",
    "lowpass50 = firwin(121, 86000 / 200000.0)\n",
    "lowpass25 = firwin(121, 56000 / 200000.0)"
   ]
  },
  {
   "cell_type": "code",
   "execution_count": null,
   "id": "5108bcaa-591f-4d2e-a608-d3c2ae0a07bb",
   "metadata": {},
   "outputs": [],
   "source": [
    "import matplotlib.pyplot as plt"
   ]
  },
  {
   "cell_type": "code",
   "execution_count": null,
   "id": "a9d73557-b78d-41c7-901c-9b3242af07b6",
   "metadata": {},
   "outputs": [],
   "source": [
    "plt.psd(lowpass25, NFFT=16384);"
   ]
  },
  {
   "cell_type": "code",
   "execution_count": null,
   "id": "93c25e50-f3e4-4a05-a8bb-e6a3c20152d2",
   "metadata": {},
   "outputs": [],
   "source": [
    "lowpass25.tolist()"
   ]
  },
  {
   "cell_type": "code",
   "execution_count": null,
   "id": "0c6417a1-7a28-4f82-9229-48accd9de090",
   "metadata": {},
   "outputs": [],
   "source": []
  }
 ],
 "metadata": {
  "kernelspec": {
   "display_name": "Python 3",
   "language": "python",
   "name": "python3"
  },
  "language_info": {
   "codemirror_mode": {
    "name": "ipython",
    "version": 3
   },
   "file_extension": ".py",
   "mimetype": "text/x-python",
   "name": "python",
   "nbconvert_exporter": "python",
   "pygments_lexer": "ipython3",
   "version": "3.6.9"
  }
 },
 "nbformat": 4,
 "nbformat_minor": 5
}
