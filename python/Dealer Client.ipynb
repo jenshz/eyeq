{
 "cells": [
  {
   "cell_type": "code",
   "execution_count": 1,
   "metadata": {},
   "outputs": [
    {
     "data": {
      "text/plain": [
       "<contextlib._GeneratorContextManager at 0x7f4d7c080748>"
      ]
     },
     "execution_count": 1,
     "metadata": {},
     "output_type": "execute_result"
    }
   ],
   "source": [
    "import zmq, time\n",
    "\n",
    "context = zmq.Context.instance()\n",
    "socket = context.socket(zmq.DEALER)\n",
    "socket.connect('tcp://localhost:3001')\n"
   ]
  },
  {
   "cell_type": "code",
   "execution_count": 5,
   "metadata": {},
   "outputs": [],
   "source": [
    "socket.send(b'hello, world')"
   ]
  },
  {
   "cell_type": "code",
   "execution_count": 10,
   "metadata": {},
   "outputs": [],
   "source": [
    "poll = zmq.Poller()\n",
    "poll.register(socket, zmq.POLLIN)"
   ]
  },
  {
   "cell_type": "code",
   "execution_count": 39,
   "metadata": {},
   "outputs": [],
   "source": [
    "def receive_responses(number, timeout=2000):\n",
    "    end_time = time.time() + timeout / 1000\n",
    "    for i in range(number):\n",
    "        if end_time < time.time():\n",
    "            break\n",
    "        sockets = dict(poll.poll((end_time - time.time())*1000))\n",
    "        if socket in sockets:\n",
    "            yield socket.recv()\n",
    "        else:\n",
    "            break"
   ]
  },
  {
   "cell_type": "code",
   "execution_count": 40,
   "metadata": {},
   "outputs": [
    {
     "name": "stdout",
     "output_type": "stream",
     "text": [
      "b'hello, world'\n",
      "b'hello, world'\n",
      "b'hello, world'\n",
      "b'hello, world'\n",
      "b'hello, world'\n",
      "b'hello, world'\n"
     ]
    }
   ],
   "source": [
    "for msg in receive_responses(10, timeout=10000):\n",
    "    print(msg)"
   ]
  },
  {
   "cell_type": "code",
   "execution_count": null,
   "metadata": {},
   "outputs": [],
   "source": []
  }
 ],
 "metadata": {
  "kernelspec": {
   "display_name": "Python 3",
   "language": "python",
   "name": "python3"
  },
  "language_info": {
   "codemirror_mode": {
    "name": "ipython",
    "version": 3
   },
   "file_extension": ".py",
   "mimetype": "text/x-python",
   "name": "python",
   "nbconvert_exporter": "python",
   "pygments_lexer": "ipython3",
   "version": "3.6.9"
  }
 },
 "nbformat": 4,
 "nbformat_minor": 4
}
